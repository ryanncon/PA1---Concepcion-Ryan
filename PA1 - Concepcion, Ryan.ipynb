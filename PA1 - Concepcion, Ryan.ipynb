{
 "cells": [
  {
   "cell_type": "markdown",
   "id": "4f1897a5",
   "metadata": {},
   "source": [
    "# ALPHABET SOUP PROBLEM: Create a function that takes a string and returns a string with its letters in alphabetical order"
   ]
  },
  {
   "cell_type": "code",
   "execution_count": 14,
   "id": "69041ebd",
   "metadata": {},
   "outputs": [
    {
     "name": "stdout",
     "output_type": "stream",
     "text": [
      "ehllo\n",
      "acehkr\n",
      "aabehlpt\n"
     ]
    }
   ],
   "source": [
    "def alphabet_soup(text): #input a text\n",
    "    sorted_text = ''.join(sorted(text)) #To sort the letters of the word\n",
    "    return sorted_text\n",
    "\n",
    "print(alphabet_soup(\"hello\"))\n",
    "print(alphabet_soup(\"hacker\"))\n",
    "print(alphabet_soup(\"alphabet\"))"
   ]
  },
  {
   "cell_type": "markdown",
   "id": "de809447",
   "metadata": {},
   "source": [
    "# EMOTICON PROBLEM: Create a function that changes specific words into emotions. Given a sentence as a string, replace the words smile, grin, sad, and mad with their corresponding emoticon."
   ]
  },
  {
   "cell_type": "code",
   "execution_count": 10,
   "id": "dd9c6580",
   "metadata": {},
   "outputs": [
    {
     "name": "stdout",
     "output_type": "stream",
     "text": [
      "Make me :)\n",
      "I am >:(\n",
      "I am :(\n",
      "Make me :D\n"
     ]
    }
   ],
   "source": [
    "def emotify(sentence):\n",
    "    # Use dictionary to pair each emotion with its corresponding emoticons\n",
    "    emoticons = {\"smile\": \":)\", \"grin\": \":D\", \"sad\": \":(\", \"mad\": \">:(\"}\n",
    "    \n",
    "    # Split the sentence into words\n",
    "    words = sentence.split()\n",
    "    \n",
    "    # Replace words with emoticons if the corresponding keys\n",
    "    new_sentence = ' '.join([emoticons[word] if word in emoticons else word for word in words])\n",
    "    \n",
    "    return new_sentence\n",
    "\n",
    "print(emotify(\"Make me smile\"))  \n",
    "print(emotify(\"I am mad\"))   \n",
    "print(emotify(\"I am sad\"))\n",
    "print(emotify(\"Make me grin\"))\n"
   ]
  },
  {
   "cell_type": "markdown",
   "id": "993c4129",
   "metadata": {},
   "source": [
    "# UNPACKING LIST PROBLEM: Unpack the list writeyourcodehere into three variables, being first, middle, and last, with middle being everything in between the first and last element. Then print all variables."
   ]
  },
  {
   "cell_type": "code",
   "execution_count": 18,
   "id": "5345cda8",
   "metadata": {},
   "outputs": [
    {
     "name": "stdout",
     "output_type": "stream",
     "text": [
      "first: 1 middle: [2, 3, 4, 5, 6, 7, 8, 9] last: 10\n"
     ]
    }
   ],
   "source": [
    "# Create your list named writeyourcodehere\n",
    "writeyourcodehere = [1, 2, 3, 4, 5, 6, 7, 8 , 9 ,10]\n",
    "\n",
    "# Unpacking the list, with the middle being everything in between the first and last element\n",
    "first, *middle, last = writeyourcodehere\n",
    "\n",
    "# Printing the variables\n",
    "print(f\"first: {first} middle: {middle} last: {last}\")\n"
   ]
  },
  {
   "cell_type": "code",
   "execution_count": null,
   "id": "97ce77cf",
   "metadata": {},
   "outputs": [],
   "source": []
  }
 ],
 "metadata": {
  "kernelspec": {
   "display_name": "Python 3 (ipykernel)",
   "language": "python",
   "name": "python3"
  },
  "language_info": {
   "codemirror_mode": {
    "name": "ipython",
    "version": 3
   },
   "file_extension": ".py",
   "mimetype": "text/x-python",
   "name": "python",
   "nbconvert_exporter": "python",
   "pygments_lexer": "ipython3",
   "version": "3.11.4"
  }
 },
 "nbformat": 4,
 "nbformat_minor": 5
}
